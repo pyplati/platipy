{
 "cells": [
  {
   "cell_type": "markdown",
   "metadata": {},
   "source": [
    "# nnUNet Segmentation Service Client\n",
    "\n",
    "This Jupyter Notebook provides an example on how to interact with a running nnUNet Segmentation service\n",
    "\n",
    "### Getting Started:\n",
    "1. Set the host name or IP address of the server running the service\n",
    "2. Set the appropriate port which the service is running on\n",
    "3. Create an API key on the server for this client and enter it below\n",
    "4. Leave the algorithm name, since this should always be running as 'nnUNet Segmentation'\n",
    "5. While experimenting, set the log_level to 'DEBUG'. This will generate a lot of output so set it to 'INFO' when running over a lot of data to reduce the amount of output"
   ]
  },
  {
   "cell_type": "code",
   "execution_count": null,
   "metadata": {},
   "outputs": [],
   "source": [
    "import sys\n",
    "sys.path.append(\"../../..\")\n",
    "\n",
    "import os\n",
    "from pathlib import Path\n",
    "\n",
    "import SimpleITK as sitk    \n",
    "import time\n",
    "\n",
    "from platipy.backend.client import PlatiPyClient\n",
    "from platipy.imaging.tests.data import get_lung_nifti\n",
    "from platipy.imaging import ImageVisualiser\n",
    "from platipy.imaging.label.utils import get_com\n",
    "\n",
    "from loguru import logger\n",
    "\n",
    "host = \"127.0.0.1\" # Set the host name or IP of the server running the service here\n",
    "port = 8001 # Set the port the service was configured to run on here\n",
    "\n",
    "api_key = 'XXX' # Put API key here\n",
    "\n",
    "algorithm_name = \"nnUNet Service\" # The name of the algorithm, in this case it should be left as is\n",
    "\n",
    "log_level = \"INFO\" # Choose an appropriate level of logging output: \"DEBUG\" or \"INFO\"\n",
    "\n",
    "logger.remove()\n",
    "handler_id = logger.add(sys.stderr, level=log_level)"
   ]
  },
  {
   "cell_type": "markdown",
   "metadata": {},
   "source": [
    "### Fetch some data\n",
    "\n",
    "The next cell fetches some test data to work with from TCIA. We can use this as our atlas for this example as well as use one of the images to infer the auto-segmentation."
   ]
  },
  {
   "cell_type": "code",
   "execution_count": null,
   "metadata": {},
   "outputs": [],
   "source": [
    "lung_data = get_lung_nifti()"
   ]
  },
  {
   "cell_type": "markdown",
   "metadata": {},
   "source": [
    "### Create Client Instance\n",
    "\n",
    "The PlatiPyClient provides useful functions to interact with the running service"
   ]
  },
  {
   "cell_type": "code",
   "execution_count": null,
   "metadata": {
    "tags": []
   },
   "outputs": [],
   "source": [
    "client = PlatiPyClient(host, port, api_key, algorithm_name)"
   ]
  },
  {
   "cell_type": "markdown",
   "metadata": {},
   "source": [
    "### Add a dataset\n",
    "\n",
    "Images can only be added to a dataset. In theory you could add multiple images to one dataset and the algorithm would run on all of them. But often better control can be gained by only adding one image per dataset and runnin the algorithm on each separately."
   ]
  },
  {
   "cell_type": "code",
   "execution_count": null,
   "metadata": {
    "tags": []
   },
   "outputs": [],
   "source": [
    "dataset = client.add_dataset()"
   ]
  },
  {
   "cell_type": "markdown",
   "metadata": {},
   "source": [
    "### Add an image to the dataset\n",
    "\n",
    "The following cell grabs the first test image file and adds it as a data object to the dataset created above.\n",
    "\n",
    "This is the image that will be inferred by the service. We will configure the path to the atlas below."
   ]
  },
  {
   "cell_type": "code",
   "execution_count": null,
   "metadata": {},
   "outputs": [],
   "source": [
    "images = [i for i in lung_data.glob(\"*/IMAGES/*.nii.gz\")]\n",
    "ct_image = str(images[0])\n",
    "data_object = client.add_data_object(dataset, file_path=ct_image)"
   ]
  },
  {
   "cell_type": "markdown",
   "metadata": {},
   "source": [
    "### Refresh the dataset\n",
    "\n",
    "The next cell demonstrates how to refresh the dataset and see that the image has been added as a input data object"
   ]
  },
  {
   "cell_type": "code",
   "execution_count": null,
   "metadata": {},
   "outputs": [],
   "source": [
    "client.get_dataset(dataset)"
   ]
  },
  {
   "cell_type": "markdown",
   "metadata": {},
   "source": [
    "### View and modify the algorithm configuration\n",
    "\n",
    "Here we can modify the default settings for the algorithm. There are a number of settings which can be modified. Here the path to the atlas "
   ]
  },
  {
   "cell_type": "code",
   "execution_count": null,
   "metadata": {},
   "outputs": [],
   "source": [
    "settings = client.get_default_settings()\n",
    "settings['task'] = \"Task200_ClinicalHeart\"\n",
    "settings['config'] = \"3d_lowres\"\n",
    "settings['trainer'] = \"nnUNetTrainerHeart\"\n",
    "settings['clean_sup_slices'] = True"
   ]
  },
  {
   "cell_type": "markdown",
   "metadata": {},
   "source": [
    "### Run the algorithm\n",
    "\n",
    "Now everything is ready to run the algorithm using the dataset and the modified settings we generated above"
   ]
  },
  {
   "cell_type": "code",
   "execution_count": null,
   "metadata": {
    "tags": []
   },
   "outputs": [],
   "source": [
    "start = time.time()\n",
    "\n",
    "for status in client.run_algorithm(dataset, config=settings):\n",
    "    print('.', end='')\n",
    "\n",
    "end = time.time()\n",
    "print(f\"Took {end - start:.1f} seconds\")"
   ]
  },
  {
   "cell_type": "markdown",
   "metadata": {},
   "source": [
    "### Download the output\n",
    "\n",
    "Once the algorithm has finished running, we can download the output objects (here downloaded into the results directory)r.json()"
   ]
  },
  {
   "cell_type": "code",
   "execution_count": null,
   "metadata": {},
   "outputs": [],
   "source": [
    "output_directory = os.path.join(\".\", \"results\")\n",
    "client.download_output_objects(dataset, output_path=output_directory)"
   ]
  },
  {
   "cell_type": "markdown",
   "metadata": {},
   "source": [
    "### Display the results"
   ]
  },
  {
   "cell_type": "code",
   "execution_count": null,
   "metadata": {},
   "outputs": [],
   "source": [
    "heart = sitk.ReadImage(str([s for s in Path(output_directory).glob(\"*\")][0]))\n",
    "\n",
    "vis = ImageVisualiser(sitk.ReadImage(str(ct_image)), cut=get_com(heart))\n",
    "vis.add_contour({\"Heart\": heart})\n",
    "fig=vis.show()"
   ]
  },
  {
   "cell_type": "code",
   "execution_count": null,
   "metadata": {},
   "outputs": [],
   "source": []
  }
 ],
 "metadata": {
  "interpreter": {
   "hash": "767d51c1340bd893661ea55ea3124f6de3c7a262a8b4abca0554b478b1e2ff90"
  },
  "kernelspec": {
   "display_name": "Python 3",
   "language": "python",
   "name": "python3"
  },
  "language_info": {
   "codemirror_mode": {
    "name": "ipython",
    "version": 3
   },
   "file_extension": ".py",
   "mimetype": "text/x-python",
   "name": "python",
   "nbconvert_exporter": "python",
   "pygments_lexer": "ipython3",
   "version": "3.8.8"
  }
 },
 "nbformat": 4,
 "nbformat_minor": 4
}
