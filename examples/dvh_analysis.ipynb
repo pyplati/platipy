{
 "cells": [
  {
   "cell_type": "markdown",
   "metadata": {},
   "source": [
    "# DVH Analysis\n",
    "\n",
    "This notebook demonstrates how to compute and plot a DVH (Dose Volume Histogram).\n",
    "\n",
    "## Import Modules"
   ]
  },
  {
   "cell_type": "code",
   "execution_count": null,
   "metadata": {},
   "outputs": [],
   "source": [
    "try:\n",
    "    import platipy\n",
    "except:\n",
    "    !pip install platipy\n",
    "    import platipy\n",
    "\n",
    "import matplotlib.pyplot as plt\n",
    "import SimpleITK as sitk\n",
    "\n",
    "%matplotlib inline\n",
    "\n",
    "from platipy.imaging.tests.data import get_hn_nifti\n",
    "from platipy.imaging import ImageVisualiser\n",
    "from platipy.imaging.label.utils import get_com\n",
    "from platipy.imaging.dose.dvh import calculate_dvh_for_labels, calculate_d_x, calculate_v_x\n",
    "from platipy.imaging.visualisation.dose import visualise_dose"
   ]
  },
  {
   "cell_type": "markdown",
   "metadata": {},
   "source": [
    "## Download Test Data\n",
    "\n",
    "This will download some data from the TCIA TCGA-HNSC dataset. The data is for one patient and\n",
    "contains a CT, dose and some structures."
   ]
  },
  {
   "cell_type": "code",
   "execution_count": null,
   "metadata": {
    "tags": []
   },
   "outputs": [],
   "source": [
    "data_path = get_hn_nifti()"
   ]
  },
  {
   "cell_type": "markdown",
   "metadata": {},
   "source": [
    "## Load data\n",
    "\n",
    "Let's read in the data that we've downloaded"
   ]
  },
  {
   "cell_type": "code",
   "execution_count": null,
   "metadata": {},
   "outputs": [],
   "source": [
    "test_pat_path = data_path.joinpath(\"TCGA_CV_5977\")\n",
    "\n",
    "ct_image = sitk.ReadImage(str(test_pat_path.joinpath(\"IMAGES/TCGA_CV_5977_1_CT_ONC_NECK_NECK_4.nii.gz\")))\n",
    "\n",
    "dose = sitk.ReadImage(str(test_pat_path.joinpath(\"DOSES/TCGA_CV_5977_1_PLAN.nii.gz\")))\n",
    "\n",
    "dose = sitk.Resample(dose, ct_image)\n",
    "\n",
    "structure_names =[\"BRAINSTEM\", \"MANDIBLE\", \"CTV_60_GY\", \"PTV60\", \"CORD\", \"L_PAROTID\", \"R_PAROTID\"]\n",
    "\n",
    "structures = {\n",
    "    s: sitk.ReadImage(str(test_pat_path.joinpath(\"STRUCTURES\", f\"TCGA_CV_5977_1_RTSTRUCT_{s}.nii.gz\"))) for s in structure_names\n",
    "}"
   ]
  },
  {
   "cell_type": "markdown",
   "metadata": {},
   "source": [
    "## Visualise data\n",
    "\n",
    "and now let's visualise the data we've got"
   ]
  },
  {
   "cell_type": "code",
   "execution_count": null,
   "metadata": {},
   "outputs": [],
   "source": [
    "vis = ImageVisualiser(ct_image, cut=get_com(structures[\"PTV60\"]))\n",
    "\n",
    "vis.add_scalar_overlay(dose, discrete_levels=20, colormap=plt.cm.get_cmap(\"inferno\"), name=\"Dose (Gy)\")\n",
    "vis.add_contour(structures)\n",
    "\n",
    "fig = vis.show()"
   ]
  },
  {
   "cell_type": "markdown",
   "metadata": {},
   "source": [
    "## Compute DVH\n",
    "\n",
    "here we compute the DVH using the dose and structures loaded. We get the DVH back in a pandas\n",
    "DataFrame object."
   ]
  },
  {
   "cell_type": "code",
   "execution_count": null,
   "metadata": {},
   "outputs": [],
   "source": [
    "dvh = calculate_dvh_for_labels(dose, structures)"
   ]
  },
  {
   "cell_type": "code",
   "execution_count": null,
   "metadata": {},
   "outputs": [],
   "source": [
    "dvh"
   ]
  },
  {
   "attachments": {},
   "cell_type": "markdown",
   "metadata": {},
   "source": [
    "## Plot DVH\n",
    "\n",
    "using the pandas DataFrame, we plot the DVH here. The DVH first needs to be reshaped to prepare it for plotting."
   ]
  },
  {
   "cell_type": "code",
   "execution_count": null,
   "metadata": {},
   "outputs": [],
   "source": [
    "# Reshape the DVH\n",
    "plt_dvh = dvh\n",
    "plt_dvh = plt_dvh.set_index(\"label\")\n",
    "plt_dvh = plt_dvh.iloc[:,3:].transpose()\n",
    "\n",
    "# Plot the DVH\n",
    "fig, ax = plt.subplots()\n",
    "plt_dvh.plot(ax=ax, kind=\"line\", colormap=plt.cm.get_cmap(\"rainbow\"), legend=False)\n",
    "\n",
    "# Add labels and show plot\n",
    "plt.legend(loc='best')\n",
    "plt.xlabel(\"Dose (Gy)\")\n",
    "plt.ylabel(\"Frequency\")\n",
    "plt.title(\"Dose Volume Histogram (DVH)\")\n",
    "plt.show()"
   ]
  },
  {
   "attachments": {},
   "cell_type": "markdown",
   "metadata": {},
   "source": [
    "## DVH Metrics\n",
    "\n",
    "Finally, we extract commonly used metrics from the DVH. In the following cells we extract the D0 and D95 as well as the V5 and V20."
   ]
  },
  {
   "cell_type": "code",
   "execution_count": null,
   "metadata": {},
   "outputs": [],
   "source": [
    "df_metrics_d = calculate_d_x(dvh, [0, 95])\n",
    "df_metrics_d"
   ]
  },
  {
   "cell_type": "code",
   "execution_count": null,
   "metadata": {},
   "outputs": [],
   "source": [
    "df_metrics_v = calculate_v_x(dvh, [5, 20])\n",
    "df_metrics_v"
   ]
  },
  {
   "attachments": {},
   "cell_type": "markdown",
   "metadata": {},
   "source": [
    "## Dose and DVH visualisation\n",
    "\n",
    "The `visualise_dose` function can produce a visualisation including the DVH and dose metrics."
   ]
  },
  {
   "cell_type": "code",
   "execution_count": null,
   "metadata": {},
   "outputs": [],
   "source": [
    "fig, df_metrics = visualise_dose(\n",
    "    ct_image,\n",
    "    dose,\n",
    "    structures,\n",
    "    dvh=dvh,\n",
    "    d_points=[0, 95],\n",
    "    v_points=[5],\n",
    "    d_cc_points=[10],\n",
    "    structure_for_limits=dose>5,\n",
    "    expansion_for_limits=40,\n",
    "    contour_cmap=plt.cm.get_cmap(\"rainbow\"),\n",
    "    dose_cmap=plt.cm.get_cmap(\"inferno\"),\n",
    "    title=\"TCGA_CV_5977 Dose Metrics\")\n",
    "figname = 'path/figname.pdf'\n",
    "plt.show() # this sentence is necessary, otherwise the saved figure has proportion problem.\n",
    "fig.savefig(figname, dpi=150, orientation='portrait', format='pdf', bbox_inches='tight', pad_inches=0.3) # if need to save"
   ]
  }
 ],
 "metadata": {
  "kernelspec": {
   "display_name": "platipy-Ut1mjAmS-py3.8",
   "language": "python",
   "name": "python3"
  },
  "language_info": {
   "codemirror_mode": {
    "name": "ipython",
    "version": 3
   },
   "file_extension": ".py",
   "mimetype": "text/x-python",
   "name": "python",
   "nbconvert_exporter": "python",
   "pygments_lexer": "ipython3",
   "version": "3.8.0"
  },
  "vscode": {
   "interpreter": {
    "hash": "950d949bcc8447743ba2e2f4f81e1f06919534c5bd1d053b1a2c5f1f73baee7b"
   }
  }
 },
 "nbformat": 4,
 "nbformat_minor": 2
}
