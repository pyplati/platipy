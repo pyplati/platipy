{
 "cells": [
  {
   "cell_type": "markdown",
   "metadata": {},
   "source": [
    "# Visualise Images\n",
    "\n",
    "This notebook demonstrates how to display an image along with some contours, scalar overlays and bounding boxes.\n",
    "\n",
    "## Import Modules\n",
    "\n",
    "The following cell imports the modules needed for this example. This 'ImageVisualiser' class does most of the heavy lifting regarding visualisation. It has a number of helpful functions, and makes adding additional information to an image (relatively) pain-free."
   ]
  },
  {
   "cell_type": "code",
   "execution_count": null,
   "metadata": {},
   "outputs": [],
   "source": [
    "# Check if platipy is installed, if not install it.\n",
    "try:\n",
    "    import platipy\n",
    "except:\n",
    "    !pip install git+https://github.com/pyplati/platipy.git\n",
    "    import platipy\n",
    "\n",
    "# The ImageVisualiser clas\n",
    "from platipy.imaging import ImageVisualiser\n",
    "\n",
    "# Function to grab some test data\n",
    "from platipy.imaging.tests.data import get_lung_nifti\n",
    "\n",
    "# Usual suspects\n",
    "import numpy as np\n",
    "import SimpleITK as sitk\n",
    "from pathlib import Path\n",
    "import matplotlib.pyplot as plt\n",
    "\n",
    "# Some utilities we use for generating interesting data\n",
    "from platipy.imaging.registration.utils import convert_mask_to_reg_structure, apply_transform\n",
    "from platipy.imaging.registration.deformable import fast_symmetric_forces_demons_registration\n",
    "from platipy.imaging.generation.dvf import generate_field_asymmetric_extend\n",
    "from platipy.imaging.label.utils import get_com\n",
    "from platipy.imaging.utils.crop import label_to_roi"
   ]
  },
  {
   "cell_type": "markdown",
   "metadata": {},
   "source": [
    "## Download Test Data\n",
    "\n",
    "Some Lung test data from LCTSC is fetched here for use in this example notebook."
   ]
  },
  {
   "cell_type": "code",
   "execution_count": null,
   "metadata": {},
   "outputs": [],
   "source": [
    "input_directory = get_lung_nifti()"
   ]
  },
  {
   "cell_type": "markdown",
   "metadata": {},
   "source": [
    "## Read in the data\n",
    "\n",
    "- ct_image: the x-ray computed tomography scan (3D)\n",
    "- contours: a dictionary of binary masks"
   ]
  },
  {
   "cell_type": "code",
   "execution_count": null,
   "metadata": {
    "tags": []
   },
   "outputs": [],
   "source": [
    "pat_directory = input_directory.joinpath(\"LCTSC-Test-S1-101\")\n",
    "\n",
    "# Read in the CT image\n",
    "ct_filename = next(pat_directory.glob(\"**/IMAGES/*.nii.gz\"))\n",
    "ct_image = sitk.ReadImage(ct_filename.as_posix())\n",
    "\n",
    "# Read in the RTStruct contours as binary masks\n",
    "contour_filename_list = list(pat_directory.glob(\"**/STRUCTURES/*.nii.gz\"))\n",
    "\n",
    "contours = {}\n",
    "for contour_filename in contour_filename_list:\n",
    "    _name = contour_filename.name.split(\".nii.gz\")[0].split(\"RTSTRUCT_\")[-1]\n",
    "    \n",
    "    contours[_name] = sitk.ReadImage(contour_filename.as_posix())"
   ]
  },
  {
   "cell_type": "markdown",
   "metadata": {},
   "source": [
    "## Display Image with Contours\n",
    "\n",
    "Here we define 'cut', the location of orthogonal slices\n",
    "\n",
    "- cut: (\n",
    "        transaxial slice location *or* first axis,\n",
    "        coronal slice location *or* second axis,\n",
    "        saggital slice location *or* third axis,\n",
    "        )\n",
    "    "
   ]
  },
  {
   "cell_type": "code",
   "execution_count": null,
   "metadata": {},
   "outputs": [],
   "source": [
    "image_visualiser = ImageVisualiser(ct_image, cut=(50,256,256))\n",
    "image_visualiser.add_contour(contours)\n",
    "fig = image_visualiser.show()"
   ]
  },
  {
   "cell_type": "markdown",
   "metadata": {},
   "source": [
    "## Display Image without Contours\n",
    "\n",
    "Here we change the intensity windowing, for example to better visualise lung tissue\n",
    "\n",
    "- window: (\n",
    "        minimum intensity,\n",
    "        range in intensity\n",
    "        )\n",
    "        \n",
    "It is also possible to use difference colormaps to display the image.\n",
    "\n",
    "We can also change the field of view, for example using to the lung volumes.\n",
    "\n",
    "We also don't need to set 'cut', in which case the middle of the image volume is displayed.\n",
    "\n",
    "    "
   ]
  },
  {
   "cell_type": "code",
   "execution_count": null,
   "metadata": {},
   "outputs": [],
   "source": [
    "image_visualiser = ImageVisualiser(ct_image, window=(-900, 1100), colormap=plt.cm.get_cmap(\"terrain\"), figure_size_in=6)\n",
    "\n",
    "image_visualiser.set_limits_from_label(contours[\"LUNG_L\"] + contours[\"LUNG_R\"])\n",
    "\n",
    "fig = image_visualiser.show()"
   ]
  },
  {
   "cell_type": "markdown",
   "metadata": {},
   "source": [
    "## Display Image using Projection\n",
    "\n",
    "Another way to visualise a 3D image volume is using a projection. Here we demonstrate a mean intensity projection."
   ]
  },
  {
   "cell_type": "code",
   "execution_count": null,
   "metadata": {},
   "outputs": [],
   "source": [
    "image_visualiser = ImageVisualiser(ct_image, projection=True, window=(0.3,0.8))\n",
    "\n",
    "image_visualiser.add_bounding_box(label_to_roi(contours[\"HEART\"], return_as_list=True), name=\"HEART BOUNDING BOX\")\n",
    "\n",
    "fig = image_visualiser.show()"
   ]
  },
  {
   "cell_type": "markdown",
   "metadata": {},
   "source": [
    "## Display Scalar Field on Image\n",
    "\n",
    "There are also tools to visualise scalar fields. Here is an example using a normalised distance map, which we compute for the heart volume."
   ]
  },
  {
   "cell_type": "code",
   "execution_count": null,
   "metadata": {},
   "outputs": [],
   "source": [
    "ndm_heart = convert_mask_to_reg_structure(contours[\"HEART\"], expansion=1)\n",
    "\n",
    "image_visualiser = ImageVisualiser(ct_image, cut=get_com(contours[\"HEART\"]), figure_size_in=6)\n",
    "\n",
    "image_visualiser.add_scalar_overlay(ndm_heart, name=\"Normalised distance from edge\", discrete_levels=10)\n",
    "image_visualiser.add_contour(contours[\"HEART\"], name=\"Heart\", show_legend=True)\n",
    "\n",
    "image_visualiser.set_limits_from_label(contours[\"HEART\"], expansion=30)\n",
    "\n",
    "fig = image_visualiser.show()"
   ]
  },
  {
   "cell_type": "code",
   "execution_count": null,
   "metadata": {},
   "outputs": [],
   "source": []
  },
  {
   "cell_type": "markdown",
   "metadata": {},
   "source": [
    "## Overlay Vector Fields on Image\n",
    "\n",
    "We can also display vector fields. Here we compute one, simulated by expanding the heart volume by 5mm (for this simulation, we also use some nice tools in platipy)."
   ]
  },
  {
   "cell_type": "code",
   "execution_count": null,
   "metadata": {},
   "outputs": [],
   "source": [
    "contours[\"HEART_EXPAND\"], tfm_expansion, dvf_expansion = generate_field_asymmetric_extend(contours[\"HEART\"])"
   ]
  },
  {
   "cell_type": "code",
   "execution_count": null,
   "metadata": {},
   "outputs": [],
   "source": [
    "image_visualiser = ImageVisualiser(ct_image, cut=get_com(contours[\"HEART\"]), figure_size_in=7)\n",
    "\n",
    "image_visualiser.add_vector_overlay(\n",
    "    dvf_expansion,\n",
    "    name=\"DVF magnitude [mm]\",\n",
    "    colormap=plt.cm.get_cmap(\"gnuplot2\"),\n",
    "    alpha=0.75,\n",
    "    arrow_scale=1,\n",
    "    arrow_width=1,\n",
    "    subsample=(2,6,6),\n",
    "    color_function='magnitude',\n",
    "    show_colorbar=True\n",
    ")\n",
    "\n",
    "image_visualiser.add_contour(contours[\"HEART_EXPAND\"], name = \"Heart (expanded)\", color=\"#880088\", linewidth=5)\n",
    "image_visualiser.add_contour(contours[\"HEART\"], name = \"Heart (original)\", color=\"#88FF88\", linewidth=5)\n",
    "\n",
    "image_visualiser.set_limits_from_label(contours[\"HEART_EXPAND\"], expansion=40)\n",
    "\n",
    "fig = image_visualiser.show()"
   ]
  },
  {
   "cell_type": "markdown",
   "metadata": {},
   "source": [
    "## Compare two Images\n",
    "\n",
    "We can also visualise comparisons between images. This can be helpful for checking registration performance visually.\n",
    "\n",
    "In this example, we deform the ct_image using the transformation above (heart expansion).\n"
   ]
  },
  {
   "cell_type": "code",
   "execution_count": null,
   "metadata": {},
   "outputs": [],
   "source": [
    "ct_image_deformed = apply_transform(\n",
    "    input_image=ct_image,\n",
    "    reference_image=None,\n",
    "    transform=tfm_expansion,\n",
    "    default_value=-1000,\n",
    "    interpolator=sitk.sitkBSpline,\n",
    ")\n",
    "\n",
    "image_visualiser = ImageVisualiser(ct_image, cut=get_com(contours[\"HEART\"]), figure_size_in=7, window=(-40, 200))\n",
    "\n",
    "image_visualiser.add_comparison_overlay(ct_image_deformed)\n",
    "\n",
    "image_visualiser.set_limits_from_label(contours[\"HEART_EXPAND\"], expansion=40)\n",
    "\n",
    "fig = image_visualiser.show()"
   ]
  },
  {
   "cell_type": "markdown",
   "metadata": {},
   "source": [
    "## Combine Visualisations\n",
    "\n",
    "For experienced matplotlib users, it is also possible to customise the figure after it has been created. We can add test, more axes, etc. as usual..."
   ]
  },
  {
   "cell_type": "code",
   "execution_count": null,
   "metadata": {},
   "outputs": [],
   "source": [
    "image_visualiser = ImageVisualiser(ct_image, cut=get_com(contours[\"HEART\"]), figure_size_in=9)\n",
    "\n",
    "image_visualiser.add_scalar_overlay(ndm_heart, name=\"Normalised distance from edge\", discrete_levels=10)\n",
    "\n",
    "image_visualiser.add_contour(contours[\"HEART_EXPAND\"], name = \"Heart (expanded)\", color=\"#880088\", linewidth=5)\n",
    "image_visualiser.add_contour(contours[\"HEART\"], name = \"Heart (original)\", color=\"#88FF88\", linewidth=5)\n",
    "\n",
    "image_visualiser.add_vector_overlay(\n",
    "    dvf_expansion,\n",
    "    name=\"DVF magnitude [mm]\",\n",
    "    colormap=plt.cm.get_cmap(\"gnuplot2\"),\n",
    "    alpha=0.5,\n",
    "    arrow_scale=1,\n",
    "    arrow_width=1,\n",
    "    subsample=(2,6,6),\n",
    "    color_function='magnitude',\n",
    "    show_colorbar=True\n",
    ")\n",
    "\n",
    "image_visualiser.set_limits_from_label(contours[\"HEART_EXPAND\"], expansion=40)\n",
    "\n",
    "fig = image_visualiser.show()\n",
    "\n",
    "# Here we can add stuff to the figure\n",
    "\n",
    "fig.text(0.99, 0.99, \"TEST VISUALISATION\", va=\"top\", ha=\"right\", fontsize=14)\n",
    "fig.text(0.99, 0.96, \"using platipy\", va=\"top\", ha=\"right\", fontsize=12, style=\"italic\", c=\"red\");\n",
    "\n",
    "test_axis = fig.add_axes( (0.85, 0.55, 0.1, 0.1) )\n",
    "test_axis.hist(np.random.random(1000), histtype=\"stepfilled\", fc = \"#1144EE\", ec=None)\n",
    "test_axis.set_xlabel(\"Results\")\n",
    "\n",
    "# Optionally, save the figure\n",
    "# fig.savefig(\"./output.jpeg\", dpi=500)"
   ]
  },
  {
   "cell_type": "code",
   "execution_count": null,
   "metadata": {},
   "outputs": [],
   "source": []
  }
 ],
 "metadata": {
  "kernelspec": {
   "display_name": "Python 3",
   "language": "python",
   "name": "python3"
  },
  "language_info": {
   "codemirror_mode": {
    "name": "ipython",
    "version": 3
   },
   "file_extension": ".py",
   "mimetype": "text/x-python",
   "name": "python",
   "nbconvert_exporter": "python",
   "pygments_lexer": "ipython3",
   "version": "3.6.9"
  }
 },
 "nbformat": 4,
 "nbformat_minor": 2
}
